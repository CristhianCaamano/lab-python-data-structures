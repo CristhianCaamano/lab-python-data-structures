{
 "cells": [
  {
   "cell_type": "markdown",
   "metadata": {
    "tags": []
   },
   "source": [
    "# Lab | Data Structures "
   ]
  },
  {
   "cell_type": "markdown",
   "metadata": {},
   "source": [
    "## Exercise: Managing Customer Orders\n",
    "\n",
    "As part of a business venture, you are starting an online store that sells various products. To ensure smooth operations, you need to develop a program that manages customer orders and inventory.\n",
    "\n",
    "Follow the steps below to complete the exercise:\n",
    "\n",
    "1. Define a list called `products` that contains the following items: \"t-shirt\", \"mug\", \"hat\", \"book\", \"keychain\".\n",
    "\n",
    "2. Create an empty dictionary called `inventory`.\n",
    "\n",
    "3. Ask the user to input the quantity of each product available in the inventory. Use the product names from the `products` list as keys in the `inventory` dictionary and assign the respective quantities as values.\n",
    "\n",
    "4. Create an empty set called `customer_orders`.\n",
    "\n",
    "5. Ask the user to input the name of three products that a customer wants to order (from those in the products list, meaning three products out of \"t-shirt\", \"mug\", \"hat\", \"book\" or \"keychain\". Add each product name to the `customer_orders` set.\n",
    "\n",
    "6. Print the products in the `customer_orders` set.\n",
    "\n",
    "7. Calculate the following order statistics:\n",
    "   - Total Products Ordered: The total number of products in the `customer_orders` set.\n",
    "   - Percentage of Products Ordered: The percentage of products ordered compared to the total available products.\n",
    "   \n",
    "   Store these statistics in a tuple called `order_status`.\n",
    "\n",
    "8. Print the order statistics using the following format:\n",
    "   ```\n",
    "   Order Statistics:\n",
    "   Total Products Ordered: <total_products_ordered>\n",
    "   Percentage of Products Ordered: <percentage_ordered>% \n",
    "   ```\n",
    "\n",
    "9. Update the inventory by subtracting 1 from the quantity of each product. Modify the `inventory` dictionary accordingly.\n",
    "\n",
    "10. Print the updated inventory, displaying the quantity of each product on separate lines.\n",
    "\n",
    "Solve the exercise by implementing the steps using the Python concepts of lists, dictionaries, sets, and basic input/output operations. "
   ]
  },
  {
   "cell_type": "code",
   "execution_count": 12,
   "metadata": {},
   "outputs": [
    {
     "name": "stdin",
     "output_type": "stream",
     "text": [
      "Choose quantity of ['t-shirt', 'mug', 'hat', 'book', 'keychain']:  5\n",
      "Choose quantity of ['t-shirt', 'mug', 'hat', 'book', 'keychain']:  5\n",
      "Choose quantity of ['t-shirt', 'mug', 'hat', 'book', 'keychain']:  5\n",
      "Choose quantity of ['t-shirt', 'mug', 'hat', 'book', 'keychain']:  5\n",
      "Choose quantity of ['t-shirt', 'mug', 'hat', 'book', 'keychain']:  5\n"
     ]
    },
    {
     "name": "stdout",
     "output_type": "stream",
     "text": [
      "{'t-shirt': 5, 'mug': 5, 'hat': 5, 'book': 5, 'keychain': 5}\n"
     ]
    },
    {
     "name": "stdin",
     "output_type": "stream",
     "text": [
      "Enter the name of a product that the customer wants to order:  mug\n",
      "Do you want to add another product? (yes/no):  yes\n",
      "Enter the name of a product that the customer wants to order:  hat\n",
      "Do you want to add another product? (yes/no):  no\n"
     ]
    },
    {
     "name": "stdout",
     "output_type": "stream",
     "text": [
      "Customer orders: \n",
      "{'mug', 'hat'}\n",
      "Order statistics:\n",
      "Total products ordered: 2\n",
      "Percentage of products ordered: 40.0 %\n",
      "{'t-shirt': -1, 'mug': -1, 'hat': -1, 'book': -1, 'keychain': -1}\n",
      "t-shirt : {'t-shirt': -1, 'mug': -1, 'hat': -1, 'book': -1, 'keychain': -1}\n",
      "mug : {'t-shirt': -1, 'mug': -1, 'hat': -1, 'book': -1, 'keychain': -1}\n",
      "hat : {'t-shirt': -1, 'mug': -1, 'hat': -1, 'book': -1, 'keychain': -1}\n",
      "book : {'t-shirt': -1, 'mug': -1, 'hat': -1, 'book': -1, 'keychain': -1}\n",
      "keychain : {'t-shirt': -1, 'mug': -1, 'hat': -1, 'book': -1, 'keychain': -1}\n"
     ]
    }
   ],
   "source": [
    "products = ['t-shirt', 'mug', 'hat', 'book', 'keychain']\n",
    "inventory = {}\n",
    "\n",
    "for product in products:\n",
    "    quantity = int(input(f'Choose quantity of {products}: '))\n",
    "    inventory[product] = quantity\n",
    "print(inventory)\n",
    "\n",
    "customer_orders = set()\n",
    "answer = 'yes'\n",
    "\n",
    "while answer == 'yes':\n",
    "    product_name = input(\"Enter the name of a product that the customer wants to order: \")\n",
    "    while product_name not in products:  \n",
    "        print(\"Invalid product name.\")\n",
    "        product_name = input(\"Enter the name of a product that the customer wants to order: \")\n",
    "    customer_orders.add(product_name)\n",
    "    answer = input(\"Do you want to add another product? (yes/no): \")\n",
    "\n",
    "print('Customer orders: ')\n",
    "print(customer_orders)\n",
    "\n",
    "Total_products = len(customer_orders)\n",
    "percentage = Total_products / len(products) * 100\n",
    "\n",
    "order_status = (Total_products , percentage)\n",
    "\n",
    "print('Order statistics:')\n",
    "print('Total products ordered:', order_status[0]) \n",
    "print('Percentage of products ordered:', order_status[1],'%')\n",
    "\n",
    "for product in inventory:\n",
    "    inventory[product] =- 1\n",
    "print(inventory)\n",
    "\n",
    "for product, quantity in inventory.items():\n",
    "    print(f'{product} : {inventory}')"
   ]
  },
  {
   "cell_type": "code",
   "execution_count": null,
   "metadata": {},
   "outputs": [],
   "source": []
  }
 ],
 "metadata": {
  "kernelspec": {
   "display_name": "Python 3 (ipykernel)",
   "language": "python",
   "name": "python3"
  },
  "language_info": {
   "codemirror_mode": {
    "name": "ipython",
    "version": 3
   },
   "file_extension": ".py",
   "mimetype": "text/x-python",
   "name": "python",
   "nbconvert_exporter": "python",
   "pygments_lexer": "ipython3",
   "version": "3.12.7"
  }
 },
 "nbformat": 4,
 "nbformat_minor": 4
}
